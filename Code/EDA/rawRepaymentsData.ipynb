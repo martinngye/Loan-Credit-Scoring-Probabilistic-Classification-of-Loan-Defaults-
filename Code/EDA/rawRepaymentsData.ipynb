{
 "cells": [
  {
   "cell_type": "markdown",
   "metadata": {},
   "source": [
    "__Author: Martin Ng__    \n",
    "__Date: 20/12/20__\n",
    "\n",
    "Purpose of this notebook is to explore the raw repayments data set in order to indentify which features are of interest or importance."
   ]
  },
  {
   "cell_type": "code",
   "execution_count": 1,
   "metadata": {},
   "outputs": [],
   "source": [
    "# import dependencies\n",
    "import numpy as np\n",
    "import pandas as pd\n",
    "import matplotlib.pyplot as plt"
   ]
  },
  {
   "cell_type": "markdown",
   "metadata": {},
   "source": [
    "# Load Data"
   ]
  },
  {
   "cell_type": "code",
   "execution_count": 2,
   "metadata": {},
   "outputs": [],
   "source": [
    "# load loans dataset\n",
    "repay_df = pd.read_csv(\"../../Data/Raw/RepaymentsData.csv\")"
   ]
  },
  {
   "cell_type": "markdown",
   "metadata": {},
   "source": [
    "# Basic Data Exploration"
   ]
  },
  {
   "cell_type": "code",
   "execution_count": 3,
   "metadata": {},
   "outputs": [
    {
     "data": {
      "text/plain": [
       "(2564195, 6)"
      ]
     },
     "execution_count": 3,
     "metadata": {},
     "output_type": "execute_result"
    }
   ],
   "source": [
    "# check shape\n",
    "repay_df.shape"
   ]
  },
  {
   "cell_type": "code",
   "execution_count": 4,
   "metadata": {},
   "outputs": [
    {
     "data": {
      "text/plain": [
       "<AxesSubplot:>"
      ]
     },
     "execution_count": 4,
     "metadata": {},
     "output_type": "execute_result"
    },
    {
     "data": {
      "image/png": "[encoded data removed]",
      "text/plain": [
       "<Figure size 432x288 with 1 Axes>"
      ]
     },
     "metadata": {
      "needs_background": "light"
     },
     "output_type": "display_data"
    }
   ],
   "source": [
    "# check number of dtypes\n",
    "repay_df.dtypes.value_counts()\n",
    "repay_df.dtypes.value_counts().plot(kind='bar')"
   ]
  },
  {
   "cell_type": "code",
   "execution_count": 5,
   "metadata": {},
   "outputs": [
    {
     "data": {
      "text/html": [
       "<div>\n",
       "<style scoped>\n",
       "    .dataframe tbody tr th:only-of-type {\n",
       "        vertical-align: middle;\n",
       "    }\n",
       "\n",
       "    .dataframe tbody tr th {\n",
       "        vertical-align: top;\n",
       "    }\n",
       "\n",
       "    .dataframe thead th {\n",
       "        text-align: right;\n",
       "    }\n",
       "</style>\n",
       "<table border=\"1\" class=\"dataframe\">\n",
       "  <thead>\n",
       "    <tr style=\"text-align: right;\">\n",
       "      <th></th>\n",
       "      <th>dtype</th>\n",
       "      <th>0</th>\n",
       "      <th>1</th>\n",
       "      <th>2</th>\n",
       "      <th>3</th>\n",
       "      <th>4</th>\n",
       "    </tr>\n",
       "  </thead>\n",
       "  <tbody>\n",
       "    <tr>\n",
       "      <th>ReportAsOfEOD</th>\n",
       "      <td>object</td>\n",
       "      <td>2021-01-12</td>\n",
       "      <td>2021-01-12</td>\n",
       "      <td>2021-01-12</td>\n",
       "      <td>2021-01-12</td>\n",
       "      <td>2021-01-12</td>\n",
       "    </tr>\n",
       "    <tr>\n",
       "      <th>loan_id</th>\n",
       "      <td>object</td>\n",
       "      <td>66AE108B-532B-4BB3-BAB7-0019A46412C1</td>\n",
       "      <td>66AE108B-532B-4BB3-BAB7-0019A46412C1</td>\n",
       "      <td>66AE108B-532B-4BB3-BAB7-0019A46412C1</td>\n",
       "      <td>66AE108B-532B-4BB3-BAB7-0019A46412C1</td>\n",
       "      <td>66AE108B-532B-4BB3-BAB7-0019A46412C1</td>\n",
       "    </tr>\n",
       "    <tr>\n",
       "      <th>Date</th>\n",
       "      <td>object</td>\n",
       "      <td>2016-05-12</td>\n",
       "      <td>2016-06-13</td>\n",
       "      <td>2016-07-12</td>\n",
       "      <td>2016-09-12</td>\n",
       "      <td>2016-11-14</td>\n",
       "    </tr>\n",
       "    <tr>\n",
       "      <th>PrincipalRepayment</th>\n",
       "      <td>float64</td>\n",
       "      <td>20.35</td>\n",
       "      <td>20.62</td>\n",
       "      <td>21.09</td>\n",
       "      <td>21.68</td>\n",
       "      <td>22.51</td>\n",
       "    </tr>\n",
       "    <tr>\n",
       "      <th>InterestRepayment</th>\n",
       "      <td>float64</td>\n",
       "      <td>61.88</td>\n",
       "      <td>36.78</td>\n",
       "      <td>36.38</td>\n",
       "      <td>35.7</td>\n",
       "      <td>34.87</td>\n",
       "    </tr>\n",
       "    <tr>\n",
       "      <th>LateFeesRepayment</th>\n",
       "      <td>float64</td>\n",
       "      <td>0</td>\n",
       "      <td>0</td>\n",
       "      <td>0</td>\n",
       "      <td>0</td>\n",
       "      <td>0</td>\n",
       "    </tr>\n",
       "  </tbody>\n",
       "</table>\n",
       "</div>"
      ],
      "text/plain": [
       "                      dtype                                     0  \\\n",
       "ReportAsOfEOD        object                            2021-01-12   \n",
       "loan_id              object  66AE108B-532B-4BB3-BAB7-0019A46412C1   \n",
       "Date                 object                            2016-05-12   \n",
       "PrincipalRepayment  float64                                 20.35   \n",
       "InterestRepayment   float64                                 61.88   \n",
       "LateFeesRepayment   float64                                     0   \n",
       "\n",
       "                                                       1  \\\n",
       "ReportAsOfEOD                                 2021-01-12   \n",
       "loan_id             66AE108B-532B-4BB3-BAB7-0019A46412C1   \n",
       "Date                                          2016-06-13   \n",
       "PrincipalRepayment                                 20.62   \n",
       "InterestRepayment                                  36.78   \n",
       "LateFeesRepayment                                      0   \n",
       "\n",
       "                                                       2  \\\n",
       "ReportAsOfEOD                                 2021-01-12   \n",
       "loan_id             66AE108B-532B-4BB3-BAB7-0019A46412C1   \n",
       "Date                                          2016-07-12   \n",
       "PrincipalRepayment                                 21.09   \n",
       "InterestRepayment                                  36.38   \n",
       "LateFeesRepayment                                      0   \n",
       "\n",
       "                                                       3  \\\n",
       "ReportAsOfEOD                                 2021-01-12   \n",
       "loan_id             66AE108B-532B-4BB3-BAB7-0019A46412C1   \n",
       "Date                                          2016-09-12   \n",
       "PrincipalRepayment                                 21.68   \n",
       "InterestRepayment                                   35.7   \n",
       "LateFeesRepayment                                      0   \n",
       "\n",
       "                                                       4  \n",
       "ReportAsOfEOD                                 2021-01-12  \n",
       "loan_id             66AE108B-532B-4BB3-BAB7-0019A46412C1  \n",
       "Date                                          2016-11-14  \n",
       "PrincipalRepayment                                 22.51  \n",
       "InterestRepayment                                  34.87  \n",
       "LateFeesRepayment                                      0  "
      ]
     },
     "execution_count": 5,
     "metadata": {},
     "output_type": "execute_result"
    }
   ],
   "source": [
    "# set view as df.head().T. Transposed to allow for better readability\n",
    "view = repay_df.head().T\n",
    "\n",
    "# insert dtype column in view\n",
    "view.insert(0,\"dtype\", repay_df.dtypes)\n",
    "\n",
    "view"
   ]
  },
  {
   "cell_type": "markdown",
   "metadata": {},
   "source": [
    "Relatively simple dataset in comparison to LoanData.csv. Only `Date` needs to be parsed as dates during import"
   ]
  },
  {
   "cell_type": "code",
   "execution_count": 6,
   "metadata": {},
   "outputs": [],
   "source": [
    "repay_df = pd.read_csv(\"../../Data/Raw/RepaymentsData.csv\", parse_dates=[\"Date\"])"
   ]
  },
  {
   "cell_type": "code",
   "execution_count": 7,
   "metadata": {},
   "outputs": [
    {
     "data": {
      "text/html": [
       "<div>\n",
       "<style scoped>\n",
       "    .dataframe tbody tr th:only-of-type {\n",
       "        vertical-align: middle;\n",
       "    }\n",
       "\n",
       "    .dataframe tbody tr th {\n",
       "        vertical-align: top;\n",
       "    }\n",
       "\n",
       "    .dataframe thead th {\n",
       "        text-align: right;\n",
       "    }\n",
       "</style>\n",
       "<table border=\"1\" class=\"dataframe\">\n",
       "  <thead>\n",
       "    <tr style=\"text-align: right;\">\n",
       "      <th></th>\n",
       "      <th>dtype</th>\n",
       "      <th>0</th>\n",
       "      <th>1</th>\n",
       "      <th>2</th>\n",
       "      <th>3</th>\n",
       "      <th>4</th>\n",
       "    </tr>\n",
       "  </thead>\n",
       "  <tbody>\n",
       "    <tr>\n",
       "      <th>ReportAsOfEOD</th>\n",
       "      <td>object</td>\n",
       "      <td>2021-01-12</td>\n",
       "      <td>2021-01-12</td>\n",
       "      <td>2021-01-12</td>\n",
       "      <td>2021-01-12</td>\n",
       "      <td>2021-01-12</td>\n",
       "    </tr>\n",
       "    <tr>\n",
       "      <th>loan_id</th>\n",
       "      <td>object</td>\n",
       "      <td>66AE108B-532B-4BB3-BAB7-0019A46412C1</td>\n",
       "      <td>66AE108B-532B-4BB3-BAB7-0019A46412C1</td>\n",
       "      <td>66AE108B-532B-4BB3-BAB7-0019A46412C1</td>\n",
       "      <td>66AE108B-532B-4BB3-BAB7-0019A46412C1</td>\n",
       "      <td>66AE108B-532B-4BB3-BAB7-0019A46412C1</td>\n",
       "    </tr>\n",
       "    <tr>\n",
       "      <th>Date</th>\n",
       "      <td>datetime64[ns]</td>\n",
       "      <td>2016-05-12 00:00:00</td>\n",
       "      <td>2016-06-13 00:00:00</td>\n",
       "      <td>2016-07-12 00:00:00</td>\n",
       "      <td>2016-09-12 00:00:00</td>\n",
       "      <td>2016-11-14 00:00:00</td>\n",
       "    </tr>\n",
       "    <tr>\n",
       "      <th>PrincipalRepayment</th>\n",
       "      <td>float64</td>\n",
       "      <td>20.35</td>\n",
       "      <td>20.62</td>\n",
       "      <td>21.09</td>\n",
       "      <td>21.68</td>\n",
       "      <td>22.51</td>\n",
       "    </tr>\n",
       "    <tr>\n",
       "      <th>InterestRepayment</th>\n",
       "      <td>float64</td>\n",
       "      <td>61.88</td>\n",
       "      <td>36.78</td>\n",
       "      <td>36.38</td>\n",
       "      <td>35.7</td>\n",
       "      <td>34.87</td>\n",
       "    </tr>\n",
       "    <tr>\n",
       "      <th>LateFeesRepayment</th>\n",
       "      <td>float64</td>\n",
       "      <td>0</td>\n",
       "      <td>0</td>\n",
       "      <td>0</td>\n",
       "      <td>0</td>\n",
       "      <td>0</td>\n",
       "    </tr>\n",
       "  </tbody>\n",
       "</table>\n",
       "</div>"
      ],
      "text/plain": [
       "                             dtype                                     0  \\\n",
       "ReportAsOfEOD               object                            2021-01-12   \n",
       "loan_id                     object  66AE108B-532B-4BB3-BAB7-0019A46412C1   \n",
       "Date                datetime64[ns]                   2016-05-12 00:00:00   \n",
       "PrincipalRepayment         float64                                 20.35   \n",
       "InterestRepayment          float64                                 61.88   \n",
       "LateFeesRepayment          float64                                     0   \n",
       "\n",
       "                                                       1  \\\n",
       "ReportAsOfEOD                                 2021-01-12   \n",
       "loan_id             66AE108B-532B-4BB3-BAB7-0019A46412C1   \n",
       "Date                                 2016-06-13 00:00:00   \n",
       "PrincipalRepayment                                 20.62   \n",
       "InterestRepayment                                  36.78   \n",
       "LateFeesRepayment                                      0   \n",
       "\n",
       "                                                       2  \\\n",
       "ReportAsOfEOD                                 2021-01-12   \n",
       "loan_id             66AE108B-532B-4BB3-BAB7-0019A46412C1   \n",
       "Date                                 2016-07-12 00:00:00   \n",
       "PrincipalRepayment                                 21.09   \n",
       "InterestRepayment                                  36.38   \n",
       "LateFeesRepayment                                      0   \n",
       "\n",
       "                                                       3  \\\n",
       "ReportAsOfEOD                                 2021-01-12   \n",
       "loan_id             66AE108B-532B-4BB3-BAB7-0019A46412C1   \n",
       "Date                                 2016-09-12 00:00:00   \n",
       "PrincipalRepayment                                 21.68   \n",
       "InterestRepayment                                   35.7   \n",
       "LateFeesRepayment                                      0   \n",
       "\n",
       "                                                       4  \n",
       "ReportAsOfEOD                                 2021-01-12  \n",
       "loan_id             66AE108B-532B-4BB3-BAB7-0019A46412C1  \n",
       "Date                                 2016-11-14 00:00:00  \n",
       "PrincipalRepayment                                 22.51  \n",
       "InterestRepayment                                  34.87  \n",
       "LateFeesRepayment                                      0  "
      ]
     },
     "execution_count": 7,
     "metadata": {},
     "output_type": "execute_result"
    }
   ],
   "source": [
    "# set view as df.head().T. Transposed to allow for better readability\n",
    "view = repay_df.head().T\n",
    "\n",
    "# insert dtype column in view\n",
    "view.insert(0,\"dtype\", repay_df.dtypes)\n",
    "\n",
    "view"
   ]
  },
  {
   "cell_type": "markdown",
   "metadata": {},
   "source": [
    "# Code"
   ]
  },
  {
   "cell_type": "markdown",
   "metadata": {},
   "source": [
    "1. Code for importing the raw RepaymentsData.csv with the right data types casted\n",
    "\n",
    "```python\n",
    "repay_df = pd.read_csv(\"../../Data/Raw/RepaymentsData.csv\", parse_dates=[\"Date\"])\n",
    "```"
   ]
  },
  {
   "cell_type": "code",
   "execution_count": null,
   "metadata": {},
   "outputs": [],
   "source": []
  }
 ],
 "metadata": {
  "kernelspec": {
   "display_name": "Python 3",
   "language": "python",
   "name": "python3"
  },
  "language_info": {
   "codemirror_mode": {
    "name": "ipython",
    "version": 3
   },
   "file_extension": ".py",
   "mimetype": "text/x-python",
   "name": "python",
   "nbconvert_exporter": "python",
   "pygments_lexer": "ipython3",
   "version": "3.8.5"
  }
 },
 "nbformat": 4,
 "nbformat_minor": 4
}
